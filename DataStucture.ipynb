{
 "cells": [
  {
   "cell_type": "markdown",
   "id": "80d155da-c47f-4287-bfd7-28b1e1bcf422",
   "metadata": {},
   "source": [
    "# 1. String Slicing in Python"
   ]
  },
  {
   "cell_type": "markdown",
   "id": "2164e0c1-e6f3-46ce-bbe2-153ef6c1e6c9",
   "metadata": {},
   "source": [
    "String slicing allows you to access parts of a string by specifying a range of indices.\n",
    "\n",
    "Syntax: string[start:end:step]\n",
    "start: Index to begin the slice (inclusive).\n",
    "end: Index to end the slice (exclusive).\n",
    "step: The step value to move between indices (optional)."
   ]
  },
  {
   "cell_type": "code",
   "execution_count": 1,
   "id": "3d37d553-c750-4a05-adc6-750afb428676",
   "metadata": {},
   "outputs": [
    {
     "name": "stdout",
     "output_type": "stream",
     "text": [
      "Hello\n",
      "World\n",
      "!dlroW ,olleH\n"
     ]
    }
   ],
   "source": [
    "my_string = \"Hello, World!\"\n",
    "print(my_string[0:5])  \n",
    "print(my_string[7:12])  \n",
    "print(my_string[::-1])  "
   ]
  },
  {
   "cell_type": "markdown",
   "id": "2bbacec4-b53a-43e3-a55c-36fc297d2264",
   "metadata": {},
   "source": [
    "Slicing allows to extract substrings, reverse strings, and create modified versions of strings."
   ]
  },
  {
   "cell_type": "markdown",
   "id": "c3202acb-0448-4731-93a0-007775b1df34",
   "metadata": {},
   "source": [
    "# 2. Key Features of Lists in Python "
   ]
  },
  {
   "cell_type": "markdown",
   "id": "c3971184-9343-4ef9-a95a-0b7984c1f0e2",
   "metadata": {},
   "source": [
    "Lists are one of Python's most versatile data structures, offering various features:\n",
    "\n",
    "Ordered: Elements maintain their insertion order.\n",
    "Mutable: You can modify the list (add, update, delete elements).\n",
    "Dynamic Size: Lists can grow or shrink as needed.\n",
    "Supports Multiple Data Types: A list can store different types of elements, e.g., integers, strings, etc.\n",
    "Indexing & Slicing: You can access elements via indices and use slicing to get sublists."
   ]
  },
  {
   "cell_type": "code",
   "execution_count": 2,
   "id": "b468095a-6254-4cd4-a233-aa56deb03bf0",
   "metadata": {},
   "outputs": [
    {
     "name": "stdout",
     "output_type": "stream",
     "text": [
      "[1, 2, 'apple', True]\n"
     ]
    }
   ],
   "source": [
    "my_list = [1, 2, \"apple\", True]\n",
    "print(my_list)  "
   ]
  },
  {
   "cell_type": "markdown",
   "id": "14ff6cc8-3fa5-42ea-9870-574026d29654",
   "metadata": {},
   "source": [
    "# 3. Access, Modify, and Delete Elements in a List"
   ]
  },
  {
   "cell_type": "markdown",
   "id": "621cc3cd-45de-4d94-8d43-3f59a82307c2",
   "metadata": {},
   "source": [
    "Access: access list elements using indices."
   ]
  },
  {
   "cell_type": "code",
   "execution_count": 3,
   "id": "6571afd7-1c45-4b73-a2f1-1a271e7ecfa6",
   "metadata": {},
   "outputs": [
    {
     "name": "stdout",
     "output_type": "stream",
     "text": [
      "20\n"
     ]
    }
   ],
   "source": [
    "my_list = [10, 20, 30]\n",
    "print(my_list[1])  "
   ]
  },
  {
   "cell_type": "markdown",
   "id": "8bfd21b7-42ad-42c4-ac99-8dd9a03b2521",
   "metadata": {},
   "source": [
    "Modify: Lists are mutable, so you can change their elements."
   ]
  },
  {
   "cell_type": "code",
   "execution_count": 4,
   "id": "346a878b-fe4e-4b0f-ae59-9f021235fd57",
   "metadata": {},
   "outputs": [
    {
     "name": "stdout",
     "output_type": "stream",
     "text": [
      "[10, 25, 30]\n"
     ]
    }
   ],
   "source": [
    "my_list[1] = 25\n",
    "print(my_list)  "
   ]
  },
  {
   "cell_type": "markdown",
   "id": "d908549b-98f0-4d31-8cc9-460d999ce754",
   "metadata": {},
   "source": [
    "Delete: You can delete elements using del, remove(), or pop()."
   ]
  },
  {
   "cell_type": "code",
   "execution_count": 5,
   "id": "14404d74-8de9-421e-9b80-3d8a6554a435",
   "metadata": {},
   "outputs": [
    {
     "name": "stdout",
     "output_type": "stream",
     "text": [
      "[10, 30]\n",
      "[30]\n",
      "[]\n"
     ]
    }
   ],
   "source": [
    "del my_list[1]  \n",
    "print(my_list)  \n",
    "\n",
    "my_list.remove(10) \n",
    "print(my_list)  \n",
    "\n",
    "my_list.pop()  \n",
    "print(my_list)  "
   ]
  },
  {
   "cell_type": "markdown",
   "id": "82028d2c-277e-4327-b258-97de0851b069",
   "metadata": {},
   "source": [
    "# 4. Compare and Contrast Tuples and Lists"
   ]
  },
  {
   "cell_type": "markdown",
   "id": "9c88c3c0-a278-4310-8430-51e94e8b6272",
   "metadata": {},
   "source": [
    "Tuples:\n",
    "\n",
    "Immutable: Once created, they cannot be changed.\n",
    "Faster: Due to immutability, accessing elements in tuples is faster.\n",
    "Used for Fixed Data: Suitable for data that shouldn’t be changed, like coordinates.\n",
    "Lists:\n",
    "\n",
    "Mutable: Elements can be added, modified, or deleted.\n",
    "Dynamic: They can grow or shrink as needed.\n",
    "More Versatile: Suitable for data that may change frequently."
   ]
  },
  {
   "cell_type": "code",
   "execution_count": 7,
   "id": "a77f31e7-72a2-4fc5-a93a-954783ac84cd",
   "metadata": {},
   "outputs": [
    {
     "name": "stdout",
     "output_type": "stream",
     "text": [
      "[10, 2, 3]\n"
     ]
    }
   ],
   "source": [
    "my_tuple = (1, 2, 3)\n",
    "\n",
    "my_list = [1, 2, 3]\n",
    "my_list[0] = 10  \n",
    "print(my_list)  \n"
   ]
  },
  {
   "cell_type": "markdown",
   "id": "a6091281-258a-43d1-b709-7371b9e82986",
   "metadata": {},
   "source": [
    "# 5. Key Features of Sets and Examples of Their Use "
   ]
  },
  {
   "cell_type": "markdown",
   "id": "09c9936d-567f-4e9c-8b7f-c313897e46e3",
   "metadata": {},
   "source": [
    "Unordered: Sets do not maintain the insertion order of elements.\n",
    "Unique Elements: Sets automatically eliminate duplicate values.\n",
    "Mutable: You can add or remove elements from a set.\n",
    "Efficient Membership Testing: Checking whether an element exists in a set is faster than in lists."
   ]
  },
  {
   "cell_type": "code",
   "execution_count": 8,
   "id": "30c51ded-90f4-4b45-9631-60c658d59fae",
   "metadata": {},
   "outputs": [
    {
     "name": "stdout",
     "output_type": "stream",
     "text": [
      "{1, 2, 3}\n",
      "{1, 2, 3, 4}\n"
     ]
    }
   ],
   "source": [
    "my_set = {1, 2, 3, 3}\n",
    "print(my_set)  \n",
    "\n",
    "my_set.add(4)\n",
    "print(my_set)  "
   ]
  },
  {
   "cell_type": "markdown",
   "id": "a9c739f2-39e5-4281-a8c4-e3bf39ae212a",
   "metadata": {},
   "source": [
    "Sets are useful in scenarios where you need unique items, like removing duplicates from a list."
   ]
  },
  {
   "cell_type": "markdown",
   "id": "8e788694-02d8-466f-beda-574d5aa3a000",
   "metadata": {},
   "source": [
    "# 6. Use Cases of Tuples and Sets in Python Programming "
   ]
  },
  {
   "cell_type": "markdown",
   "id": "f5b206ce-5cc3-4d8b-bd5a-3c293d4f7e48",
   "metadata": {},
   "source": [
    "Tuples:\n",
    "\n",
    "Fixed Collections: Useful for storing data that shouldn't change (e.g., geographical coordinates or database records).\n",
    "Function Return Values: Often used to return multiple values from a function."
   ]
  },
  {
   "cell_type": "code",
   "execution_count": 9,
   "id": "e5b4aaf2-5bec-4b3c-b418-4f04ae1915ca",
   "metadata": {},
   "outputs": [],
   "source": [
    "def get_coordinates():\n",
    "    return (40.7128, -74.0060)  "
   ]
  },
  {
   "cell_type": "markdown",
   "id": "e2a12a8d-c3c1-495f-aa17-05fed6d2437b",
   "metadata": {},
   "source": [
    "Sets:\n",
    "\n",
    "Eliminating Duplicates: Used to store unique values (e.g., removing duplicates from a list).\n",
    "Membership Testing: Sets offer faster checks to see if an element is present."
   ]
  },
  {
   "cell_type": "code",
   "execution_count": 10,
   "id": "acf25382-f247-47b0-987c-e70daae67475",
   "metadata": {},
   "outputs": [
    {
     "name": "stdout",
     "output_type": "stream",
     "text": [
      "{1, 2, 3}\n"
     ]
    }
   ],
   "source": [
    "my_list = [1, 2, 2, 3]\n",
    "unique_items = set(my_list)\n",
    "print(unique_items)  "
   ]
  },
  {
   "cell_type": "markdown",
   "id": "b93387cb-5e2a-4007-b449-0b69327d24c0",
   "metadata": {},
   "source": [
    "# 7. Adding, Modifying, and Deleting Items in a Dictionary"
   ]
  },
  {
   "cell_type": "markdown",
   "id": "b2e14991-b9a7-4adc-a415-b4c521e4734c",
   "metadata": {},
   "source": [
    "Dictionaries store key-value pairs and offer various methods to add, modify, or delete items."
   ]
  },
  {
   "cell_type": "code",
   "execution_count": 11,
   "id": "b261ace4-3ef5-474f-bb1c-d737589556df",
   "metadata": {},
   "outputs": [
    {
     "name": "stdout",
     "output_type": "stream",
     "text": [
      "{'name': 'Alice', 'age': 26, 'city': 'New York'}\n"
     ]
    }
   ],
   "source": [
    "my_dict = {\"name\": \"Alice\", \"age\": 25}\n",
    "my_dict[\"age\"] = 26  \n",
    "my_dict[\"city\"] = \"New York\"  \n",
    "print(my_dict)  "
   ]
  },
  {
   "cell_type": "markdown",
   "id": "5008bc3d-907b-41c7-beaa-e57473ff3df2",
   "metadata": {},
   "source": [
    "Delete:\n",
    "\n",
    "del: Removes an item by key.\n",
    "pop(): Removes and returns the value associated with a key."
   ]
  },
  {
   "cell_type": "code",
   "execution_count": 12,
   "id": "b9885aa8-b032-4ca9-8e58-fc1110f6e9fc",
   "metadata": {},
   "outputs": [
    {
     "name": "stdout",
     "output_type": "stream",
     "text": [
      "{'name': 'Alice', 'city': 'New York'}\n",
      "{'name': 'Alice'}\n"
     ]
    }
   ],
   "source": [
    "del my_dict[\"age\"]  \n",
    "print(my_dict)  \n",
    "\n",
    "my_dict.pop(\"city\")  \n",
    "print(my_dict)  "
   ]
  },
  {
   "cell_type": "markdown",
   "id": "642d79b9-b2da-44bf-ab29-bc5491bf44e5",
   "metadata": {},
   "source": [
    "# 8. Importance of Dictionary Keys Being Immutable "
   ]
  },
  {
   "cell_type": "markdown",
   "id": "7638c9c8-4cfb-4810-bf5d-941533d0702a",
   "metadata": {},
   "source": [
    "In Python, dictionary keys must be immutable types (e.g., strings, numbers, or tuples) because mutable objects, like lists, can change their hash values, leading to inconsistencies."
   ]
  },
  {
   "cell_type": "code",
   "execution_count": 13,
   "id": "89f123b4-3c75-414c-bd3d-0e2ac03721b7",
   "metadata": {},
   "outputs": [
    {
     "name": "stdout",
     "output_type": "stream",
     "text": [
      "Point A\n"
     ]
    }
   ],
   "source": [
    "my_dict = {(1, 2): \"Point A\"}  \n",
    "print(my_dict[(1, 2)])  "
   ]
  },
  {
   "cell_type": "markdown",
   "id": "76c2bddc-ebad-4f17-a8f7-992bfe619656",
   "metadata": {},
   "source": [
    "Immutability Matters: Immutable keys ensure that the hash of the key remains consistent throughout its life, which is crucial for retrieving values reliably. Mutable types (like lists) can be modified, causing their hash values to change, which can break the internal structure of dictionaries."
   ]
  },
  {
   "cell_type": "code",
   "execution_count": null,
   "id": "46062c9b-bb1d-45c0-b2da-96fca9c42dfd",
   "metadata": {},
   "outputs": [],
   "source": []
  }
 ],
 "metadata": {
  "kernelspec": {
   "display_name": "Python 3 (ipykernel)",
   "language": "python",
   "name": "python3"
  },
  "language_info": {
   "codemirror_mode": {
    "name": "ipython",
    "version": 3
   },
   "file_extension": ".py",
   "mimetype": "text/x-python",
   "name": "python",
   "nbconvert_exporter": "python",
   "pygments_lexer": "ipython3",
   "version": "3.10.8"
  }
 },
 "nbformat": 4,
 "nbformat_minor": 5
}
